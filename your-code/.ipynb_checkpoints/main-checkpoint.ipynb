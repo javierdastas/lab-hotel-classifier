{
 "cells": [
  {
   "cell_type": "markdown",
   "metadata": {},
   "source": [
    "<h1><center>Canceled bookings at a hotel</center></h1>\n",
    "\n",
    "\n",
    "You have been assigned the task of building a model that will predict whether or not a customer of a hotel will cancel their booking. The data for this assingment is found in the csv file `hotel_clf`\n",
    "\n",
    "<br> \n",
    "<div>\n",
    "<img src=\"https://5.imimg.com/data5/PC/BL/MY-33192851/hotel-reservation-services-500x500.jpg\" width=\"400\"/>\n",
    "</div>\n",
    "<br> \n",
    "If the model predicts that a customer will cancel their booking, that customer will be sent a special deal to try to keep the customer from cancel the booking. If the prediction is correct (a True Positive), the expected gain is 1000 SEK. However, if the prediction is wrong (a False Positive), the expected loss is 500 SEK. \n",
    "\n",
    "Your goal is to build the most profitable model possible.\n",
    "\n",
    "<hr style=\"border:1px solid pink\"> </hr>"
   ]
  },
  {
   "cell_type": "markdown",
   "metadata": {},
   "source": [
    "## Q1 | Choose Metric\n",
    "\n",
    "Reason about which metric you think will be best to optimize your model for.\n",
    "\n",
    "- Recall?\n",
    "- Precision?\n",
    "- Accuracy?\n",
    "- F1-score?\n",
    "\n",
    "Make a decision about which metric you think will lead to the most profitable model"
   ]
  },
  {
   "cell_type": "markdown",
   "metadata": {},
   "source": [
    "# Answer:"
   ]
  },
  {
   "cell_type": "markdown",
   "metadata": {},
   "source": [
    "### In this case, the goal is to maximize profitability, which depends on correctly identifying customers who will cancel their booking (True Positives) while minimizing the cost of incorrectly predicting cancellations (False Positives). Let’s analyze the options:"
   ]
  },
  {
   "cell_type": "markdown",
   "metadata": {},
   "source": [
    "## Optimize for Precision or F1-Score\n",
    "- Precision: If the cost of False Positives is significantly more damaging than the benefit of True Positives, precision is the better metric.\n",
    "- F1-Score: If balancing False Positives and False Negatives is important to maximize overall profit, the F1-Score is better.\n",
    "\n",
    "### I would choose F1-Score as the best metric.\n",
    "This is because F1-Score balances both Precision and Recall, ensuring that the model captures enough True Positives (to maximize profit) while minimizing False Positives (to reduce losses). It is particularly suitable when both False Positives and False Negatives impact profitability, as in this case."
   ]
  },
  {
   "cell_type": "markdown",
   "metadata": {},
   "source": [
    "## Q2 | Data prepatation\n",
    "\n",
    "- Prepare your data so that you end up with a clean and preprocessed train and test set\n",
    "    \n",
    "    \n",
    "- Instructions for train test split:    \n",
    "    - Test size = 0.2\n",
    "    - Random state = 42"
   ]
  },
  {
   "cell_type": "code",
   "execution_count": 13,
   "metadata": {},
   "outputs": [],
   "source": [
    "import pandas as pd\n",
    "from sklearn.model_selection import train_test_split"
   ]
  },
  {
   "cell_type": "code",
   "execution_count": 21,
   "metadata": {},
   "outputs": [
    {
     "name": "stdout",
     "output_type": "stream",
     "text": [
      "Prepare data: clean, fill blank spaces and one-hot encoding\n",
      "Prepared data process ... finish\n"
     ]
    }
   ],
   "source": [
    "# Load the dataset\n",
    "file_path = '../data/hotel_clf.csv'  # Replace with your actual file path\n",
    "data = pd.read_csv(file_path)\n",
    "\n",
    "print('Prepare data: clean, fill blank spaces and one-hot encoding')\n",
    "\n",
    "# Handle missing values\n",
    "# Fill numeric columns with the median and categorical columns with the mode\n",
    "numeric_columns = data.select_dtypes(include=['float64', 'int64']).columns\n",
    "categorical_columns = data.select_dtypes(include=['object']).columns\n",
    "\n",
    "data[numeric_columns] = data[numeric_columns].fillna(data[numeric_columns].median())\n",
    "data[categorical_columns] = data[categorical_columns].fillna(data[categorical_columns].mode().iloc[0])\n",
    "\n",
    "# Encode categorical variables using one-hot encoding\n",
    "data_encoded = pd.get_dummies(data, drop_first=True)\n",
    "\n",
    "# Define the features (X) and target (y)\n",
    "X = data_encoded.drop('is_canceled', axis=1)  # Replace 'is_canceled' with your target column name\n",
    "y = data_encoded['is_canceled']\n",
    "\n",
    "print('Prepared data process ... finish')"
   ]
  },
  {
   "cell_type": "code",
   "execution_count": 67,
   "metadata": {},
   "outputs": [
    {
     "name": "stdout",
     "output_type": "stream",
     "text": [
      "Train features shape: (8000, 126)\n",
      "Test features shape: (2000, 126)\n",
      "Train target shape: (8000,)\n",
      "Test target shape: (2000,)\n",
      "\n",
      "Classes:  {0, 1}\n"
     ]
    }
   ],
   "source": [
    "# Split the data into training and testing sets\n",
    "X_train, X_test, y_train, y_test = train_test_split(X, y, test_size=0.2, random_state=42)\n",
    "\n",
    "# Display the shapes of the resulting datasets\n",
    "print(f\"Train features shape: {X_train.shape}\")\n",
    "print(f\"Test features shape: {X_test.shape}\")\n",
    "print(f\"Train target shape: {y_train.shape}\")\n",
    "print(f\"Test target shape: {y_test.shape}\")\n",
    "\n",
    "print(\"\\nClasses: \", set(y_train))"
   ]
  },
  {
   "cell_type": "markdown",
   "metadata": {},
   "source": [
    "## Q3 | Build a LogReg Model\n",
    "\n",
    "Guidelines:\n",
    "- Use a LogisticRegression model\n",
    "    - Random state = 42\n",
    "- Use the metric you decided on in the previous question\n",
    "\n",
    "- You are not allowed to change the model after looking at the performance on test data\n",
    "- Your models predictions on test data will be translated into SEK. I.e:\n",
    "    - 10 TP = 10 * 1 000 SEK = +10 000 \n",
    "    - 10 FP = 10 * -500 SEK = -5 000 SEK\n",
    "        - Expected Value from model = +5 000 SEK \n",
    "        \n",
    "        \n",
    "After you have trained your model, make predictions for your test data and calculate the profitable of the model"
   ]
  },
  {
   "cell_type": "code",
   "execution_count": 43,
   "metadata": {},
   "outputs": [],
   "source": [
    "from sklearn.preprocessing import StandardScaler\n",
    "from sklearn.linear_model import LogisticRegression\n",
    "from sklearn.metrics import confusion_matrix, f1_score"
   ]
  },
  {
   "cell_type": "code",
   "execution_count": 45,
   "metadata": {},
   "outputs": [],
   "source": [
    "# Standardize the features (except the target variable)\n",
    "scaler = StandardScaler()\n",
    "X_train_scaled = scaler.fit_transform(X_train)\n",
    "X_test_scaled = scaler.transform(X_test)"
   ]
  },
  {
   "cell_type": "code",
   "execution_count": 49,
   "metadata": {},
   "outputs": [
    {
     "name": "stderr",
     "output_type": "stream",
     "text": [
      "/opt/anaconda3/lib/python3.12/site-packages/sklearn/base.py:486: UserWarning: X has feature names, but LogisticRegression was fitted without feature names\n",
      "  warnings.warn(\n"
     ]
    }
   ],
   "source": [
    "# Train a Logistic Regression model with scaled data\n",
    "log_reg_model = LogisticRegression(random_state=42, max_iter=1000)  # Increased max_iter\n",
    "log_reg_model.fit(X_train_scaled, y_train)\n",
    "\n",
    "# Make predictions on the test set\n",
    "y_pred = log_reg_model.predict(X_test)\n",
    "\n",
    "# Evaluate the model using F1-Score\n",
    "f1 = f1_score(y_test, y_pred)\n",
    "\n",
    "# Confusion Matrix\n",
    "conf_matrix = confusion_matrix(y_test, y_pred)\n",
    "tn, fp, fn, tp = conf_matrix.ravel()"
   ]
  },
  {
   "cell_type": "code",
   "execution_count": 87,
   "metadata": {},
   "outputs": [],
   "source": [
    "import matplotlib.pyplot as plt"
   ]
  },
  {
   "cell_type": "code",
   "execution_count": 89,
   "metadata": {},
   "outputs": [
    {
     "name": "stdout",
     "output_type": "stream",
     "text": [
      "Classification Report:\n",
      "              precision    recall  f1-score   support\n",
      "\n",
      "Not Canceled       1.00      0.01      0.01      1240\n",
      "    Canceled       0.38      1.00      0.55       760\n",
      "\n",
      "    accuracy                           0.38      2000\n",
      "   macro avg       0.69      0.50      0.28      2000\n",
      "weighted avg       0.76      0.38      0.22      2000\n",
      "\n",
      "Confusion Matrix:\n",
      "[[   8 1232]\n",
      " [   0  760]]\n"
     ]
    },
    {
     "data": {
      "image/png": "[encoded data removed]",
      "text/plain": [
       "<Figure size 800x600 with 2 Axes>"
      ]
     },
     "metadata": {},
     "output_type": "display_data"
    }
   ],
   "source": [
    "# Generate classification report\n",
    "class_labels = [\"Not Canceled\", \"Canceled\"]  # Replace with your class labels if different\n",
    "true_classes = y_test  # True labels from the test set\n",
    "\n",
    "print(\"Classification Report:\")\n",
    "print(classification_report(true_classes, y_pred, target_names=class_labels))\n",
    "\n",
    "# Confusion matrix\n",
    "conf_matrix = confusion_matrix(true_classes, y_pred)\n",
    "print(\"Confusion Matrix:\")\n",
    "print(conf_matrix)\n",
    "\n",
    "# Visualize confusion matrix\n",
    "plt.figure(figsize=(8, 6))\n",
    "plt.imshow(conf_matrix, interpolation='nearest', cmap=plt.cm.Blues)\n",
    "plt.title(\"Confusion Matrix\")\n",
    "plt.colorbar()\n",
    "\n",
    "# Add labels and ticks\n",
    "plt.xticks(ticks=np.arange(len(class_labels)), labels=class_labels, rotation=45)\n",
    "plt.yticks(ticks=np.arange(len(class_labels)), labels=class_labels)\n",
    "plt.ylabel(\"True Label\")\n",
    "plt.xlabel(\"Predicted Label\")\n",
    "\n",
    "# Add text annotations for each cell in the confusion matrix\n",
    "for i in range(conf_matrix.shape[0]):\n",
    "    for j in range(conf_matrix.shape[1]):\n",
    "        plt.text(j, i, conf_matrix[i, j], ha=\"center\", va=\"center\", color=\"red\")\n",
    "\n",
    "plt.tight_layout()\n",
    "plt.show()"
   ]
  },
  {
   "cell_type": "code",
   "execution_count": 94,
   "metadata": {},
   "outputs": [
    {
     "name": "stdout",
     "output_type": "stream",
     "text": [
      "\n",
      "F1-Score:\n",
      "0.5523255813953488\n",
      "\n",
      "Expected Profit: 144000 SEK\n"
     ]
    }
   ],
   "source": [
    "# Calculate profitability\n",
    "true_positive_gain = 1000  # SEK\n",
    "false_positive_loss = 500  # SEK\n",
    "profit = (tp * true_positive_gain) - (fp * false_positive_loss)\n",
    "\n",
    "# Display F1-Score results\n",
    "print(\"\\nF1-Score:\")\n",
    "print(f1)\n",
    "print(f\"\\nExpected Profit: {profit} SEK\")"
   ]
  },
  {
   "cell_type": "markdown",
   "metadata": {},
   "source": [
    "## Q4 | Build a RandomForestClassifier model\n",
    "\n",
    "- Use a RandomForestClassifier model:\n",
    "    - random_state = 42\n",
    "\n",
    "\n",
    "- After you have trained your model, make predictions for your test data and calculate the profitable of the model\n",
    "\n",
    "- Which model was more profitable, the LogReg or the RandomForestClassifier?"
   ]
  },
  {
   "cell_type": "code",
   "execution_count": 102,
   "metadata": {},
   "outputs": [],
   "source": [
    "from sklearn.ensemble import RandomForestClassifier\n",
    "from sklearn.metrics import confusion_matrix, classification_report, f1_score"
   ]
  },
  {
   "cell_type": "code",
   "execution_count": 112,
   "metadata": {},
   "outputs": [],
   "source": [
    "# Train a RandomForestClassifier model\n",
    "rf_model = RandomForestClassifier(random_state=42)\n",
    "rf_model.fit(X_train_scaled, y_train)\n",
    "\n",
    "# Make predictions on the test set\n",
    "y_pred_rf = rf_model.predict(X_test_scaled)"
   ]
  },
  {
   "cell_type": "code",
   "execution_count": 114,
   "metadata": {},
   "outputs": [
    {
     "name": "stdout",
     "output_type": "stream",
     "text": [
      "\n",
      "RandomForestClassifier Classification Report:\n",
      "              precision    recall  f1-score   support\n",
      "\n",
      "           0       0.82      0.89      0.85      1240\n",
      "           1       0.78      0.68      0.73       760\n",
      "\n",
      "    accuracy                           0.81      2000\n",
      "   macro avg       0.80      0.78      0.79      2000\n",
      "weighted avg       0.81      0.81      0.80      2000\n",
      "\n",
      "RandomForestClassifier Confusion Matrix:\n",
      "[[1098  142]\n",
      " [ 243  517]]\n"
     ]
    }
   ],
   "source": [
    "# Display RandomForest Results\n",
    "print(\"\\nRandomForestClassifier Classification Report:\")\n",
    "print(classification_report(y_test, y_pred_rf))\n",
    "\n",
    "# Confusion Matrix\n",
    "cm_rf = confusion_matrix(y_test, y_pred_rf)\n",
    "tn_rf, fp_rf, fn_rf, tp_rf = cm_rf.ravel()\n",
    "\n",
    "print(\"RandomForestClassifier Confusion Matrix:\")\n",
    "print(cm_rf)"
   ]
  },
  {
   "cell_type": "code",
   "execution_count": 118,
   "metadata": {},
   "outputs": [
    {
     "data": {
      "image/png": "[encoded data removed]",
      "text/plain": [
       "<Figure size 800x600 with 2 Axes>"
      ]
     },
     "metadata": {},
     "output_type": "display_data"
    }
   ],
   "source": [
    "# Visualize confusion matrix\n",
    "plt.figure(figsize=(8, 6))\n",
    "plt.imshow(cm_rf, interpolation='nearest', cmap=plt.cm.Blues)\n",
    "plt.title(\"Confusion Matrix\")\n",
    "plt.colorbar()\n",
    "\n",
    "# Add labels and ticks\n",
    "plt.xticks(ticks=np.arange(len(class_labels)), labels=class_labels, rotation=45)\n",
    "plt.yticks(ticks=np.arange(len(class_labels)), labels=class_labels)\n",
    "plt.ylabel(\"True Label\")\n",
    "plt.xlabel(\"Predicted Label\")\n",
    "\n",
    "# Add text annotations for each cell in the confusion matrix\n",
    "for i in range(cm_rf.shape[0]):\n",
    "    for j in range(cm_rf.shape[1]):\n",
    "        plt.text(j, i, cm_rf[i, j], ha=\"center\", va=\"center\", color=\"red\")\n",
    "\n",
    "plt.tight_layout()\n",
    "plt.show()"
   ]
  },
  {
   "cell_type": "code",
   "execution_count": 120,
   "metadata": {},
   "outputs": [
    {
     "name": "stdout",
     "output_type": "stream",
     "text": [
      "\n",
      "RandomForestClassifier F1-Score: 0.7286821705426356\n",
      "RandomForestClassifier Expected Profit: 446000 SEK\n",
      "\n",
      "Profit Comparison:\n",
      "RandomForestClassifier was more profitable than LogisticRegression.\n"
     ]
    }
   ],
   "source": [
    "# Evaluate the model using F1-Score\n",
    "f1_rf = f1_score(y_test, y_pred_rf)\n",
    "\n",
    "# Calculate profitability\n",
    "true_positive_gain = 1000  # SEK\n",
    "false_positive_loss = 500  # SEK\n",
    "profit_rf = (tp_rf * true_positive_gain) - (fp_rf * false_positive_loss)\n",
    "\n",
    "print(f\"\\nRandomForestClassifier F1-Score: {f1_rf}\")\n",
    "print(f\"RandomForestClassifier Expected Profit: {profit_rf} SEK\")\n",
    "\n",
    "# Compare Profitability\n",
    "profit_comparison = f\"RandomForestClassifier was {'more' if profit_rf > profit else 'less'} profitable than LogisticRegression.\"\n",
    "print(f\"\\nProfit Comparison:\\n{profit_comparison}\")"
   ]
  },
  {
   "cell_type": "markdown",
   "metadata": {},
   "source": [
    "## Q5 | Did you choose the right metric? \n",
    "\n",
    "Calculate the profitablity for the RandomForestClassifier for all 4 different metrics. Then rank order the outcome. I.e.:\n",
    "\n",
    "- RFC (precision) = 1\n",
    "- RFC (accuracy) = 2\n",
    "- ...\n",
    "- ...\n",
    "\n",
    "\n",
    "***Note:*** You don't have to use a param_grid for this question, just run the RandomForest with default settings"
   ]
  },
  {
   "cell_type": "code",
   "execution_count": 124,
   "metadata": {},
   "outputs": [],
   "source": [
    "from sklearn.metrics import precision_score, recall_score, accuracy_score, f1_score"
   ]
  },
  {
   "cell_type": "code",
   "execution_count": 128,
   "metadata": {},
   "outputs": [],
   "source": [
    "# Calculate profitability\n",
    "true_positive_gain = 1000  # SEK\n",
    "false_positive_loss = 500  # SEK\n",
    "\n",
    "# Profitability calculation\n",
    "profit_rf_default = (tp_rf * true_positive_gain) - (fp_rf * false_positive_loss)\n",
    "\n",
    "# Calculate metrics\n",
    "precision_rf = precision_score(y_test, y_pred_rf)\n",
    "recall_rf = recall_score(y_test, y_pred_rf)\n",
    "accuracy_rf = accuracy_score(y_test, y_pred_rf)\n",
    "f1_rf = f1_score(y_test, y_pred_rf)"
   ]
  },
  {
   "cell_type": "code",
   "execution_count": 130,
   "metadata": {},
   "outputs": [],
   "source": [
    "# Calculate profit for each metric\n",
    "profit_precision = precision_rf * tp_rf * true_positive_gain - (1 - precision_rf) * fp_rf * false_positive_loss\n",
    "profit_recall = recall_rf * tp_rf * true_positive_gain - (1 - recall_rf) * fn_rf * false_positive_loss\n",
    "profit_accuracy = accuracy_rf * len(y_test) * true_positive_gain - (1 - accuracy_rf) * len(y_test) * false_positive_loss\n",
    "profit_f1 = f1_rf * tp_rf * true_positive_gain - (1 - f1_rf) * (fp_rf + fn_rf) * false_positive_loss\n",
    "\n",
    "# Store and rank profitability\n",
    "profit_metrics = {\n",
    "    \"Precision\": profit_precision,\n",
    "    \"Recall\": profit_recall,\n",
    "    \"Accuracy\": profit_accuracy,\n",
    "    \"F1-Score\": profit_f1\n",
    "}"
   ]
  },
  {
   "cell_type": "code",
   "execution_count": 134,
   "metadata": {},
   "outputs": [
    {
     "name": "stdout",
     "output_type": "stream",
     "text": [
      "RandomForestClassifier Metrics Profitability:\n",
      "1. RFC (Accuracy) = 1422500.00 SEK\n",
      "2. RFC (Precision) = 390298.94 SEK\n",
      "3. RFC (F1-Score) = 324500.00 SEK\n",
      "4. RFC (Recall) = 312848.03 SEK\n",
      "\n",
      "Confusion Matrix for Default RFC:\n",
      "[[1098  142]\n",
      " [ 243  517]]\n",
      "Default RFC Profitability (overall): 446000 SEK\n"
     ]
    }
   ],
   "source": [
    "# Rank order the profits\n",
    "ranked_profit_metrics = sorted(profit_metrics.items(), key=lambda x: x[1], reverse=True)\n",
    "\n",
    "# Display results\n",
    "print(\"RandomForestClassifier Metrics Profitability:\")\n",
    "for rank, (metric, profit) in enumerate(ranked_profit_metrics, 1):\n",
    "    print(f\"{rank}. RFC ({metric}) = {profit:.2f} SEK\")\n",
    "\n",
    "# Print overall confusion matrix and original profit\n",
    "print(\"\\nConfusion Matrix for Default RFC:\")\n",
    "print(cm_rf)\n",
    "print(f\"Default RFC Profitability (overall): {profit_rf_default} SEK\")"
   ]
  },
  {
   "cell_type": "markdown",
   "metadata": {},
   "source": [
    "## ***Results and Analysis***\n",
    "### Profitability Ranking:\n",
    "- Accuracy: 1,422,500 SEK\n",
    "    - The most profitable metric, driven by the large number of correctly predicted non-cancellations (True Negatives).\n",
    "- Precision: 390,298.94 SEK\n",
    "    - Focuses on reducing False Positives, offering a good balance between profit and cost.\n",
    "- F1-Score: 324,500 SEK\n",
    "    - Balances Precision and Recall but performs slightly worse due to its equal emphasis on both.\n",
    "- Recall: 312,848.03 SEK\n",
    "    - Prioritizes finding all cancellations (True Positives), but the increase in False Positives reduces profitability.\n",
    " \n",
    "### Confusion Matrix Results:\n",
    "- True Negatives (1098): Non-cancellations correctly identified.\n",
    "- False Positives (142): Incorrectly predicted cancellations, leading to losses.\n",
    "- False Negatives (243): Actual cancellations missed.\n",
    "- True Positives (517): Cancellations correctly identified, contributing to profits.\n",
    "\n",
    "### Default RandomForestClassifier Profitability:\n",
    "- The overall profitability of the model is 446,000 SEK\n",
    "\n",
    "### Did We Choose the Right Metric?\n",
    "Initially, the F1-score was selected as the metric to balance precision and recall. But, the results indicate that precision offers the highest reward (SEK 1,422,500) because the dataset likely contains a large number of true negatives (non-cancellations), which precision rewards heavily. On the other hand, F1-score (SEK 324,500) and precision (SEK 390,298.94) are less cost-effective, but still valid if the business goal emphasizes reducing false positives or balancing both types of errors.\n",
    "\n",
    "### Insights base on the Results:\n",
    "- If maximizing profit is the primary objective, Accuracy should be prioritized as the optimized metric.\n",
    "- If the business aims to focus on preventing cancellations or reducing customer churn, Precision or F1-Score may still be suitable, depending on the trade-offs desired."
   ]
  }
 ],
 "metadata": {
  "kernelspec": {
   "display_name": "Python (base)",
   "language": "python",
   "name": "base"
  },
  "language_info": {
   "codemirror_mode": {
    "name": "ipython",
    "version": 3
   },
   "file_extension": ".py",
   "mimetype": "text/x-python",
   "name": "python",
   "nbconvert_exporter": "python",
   "pygments_lexer": "ipython3",
   "version": "3.12.2"
  },
  "toc": {
   "base_numbering": 1,
   "nav_menu": {},
   "number_sections": false,
   "sideBar": true,
   "skip_h1_title": false,
   "title_cell": "Table of Contents",
   "title_sidebar": "Contents",
   "toc_cell": false,
   "toc_position": {},
   "toc_section_display": true,
   "toc_window_display": false
  },
  "varInspector": {
   "cols": {
    "lenName": 16,
    "lenType": 16,
    "lenVar": 40
   },
   "kernels_config": {
    "python": {
     "delete_cmd_postfix": "",
     "delete_cmd_prefix": "del ",
     "library": "var_list.py",
     "varRefreshCmd": "print(var_dic_list())"
    },
    "r": {
     "delete_cmd_postfix": ") ",
     "delete_cmd_prefix": "rm(",
     "library": "var_list.r",
     "varRefreshCmd": "cat(var_dic_list()) "
    }
   },
   "types_to_exclude": [
    "module",
    "function",
    "builtin_function_or_method",
    "instance",
    "_Feature"
   ],
   "window_display": false
  }
 },
 "nbformat": 4,
 "nbformat_minor": 4
}
